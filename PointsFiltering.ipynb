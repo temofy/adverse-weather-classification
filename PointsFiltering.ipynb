{
 "cells": [
  {
   "cell_type": "code",
   "execution_count": 1,
   "id": "031c0371-f771-4516-9027-eafd72bd1aab",
   "metadata": {},
   "outputs": [],
   "source": [
    "from dataset.semantic_spray_dataset import SemanticSprayDataset\n",
    "from visualization import visualization_tools as vis\n",
    "from torch.utils.data import DataLoader\n",
    "import matplotlib.pyplot as plt\n",
    "from preprocess import distance_point_filter\n",
    "import numpy as np\n",
    "from sklearn.cluster import DBSCAN\n",
    "from sklearn.linear_model import RANSACRegressor"
   ]
  },
  {
   "cell_type": "code",
   "execution_count": 2,
   "id": "ddbd4bda-eb80-42af-a3c9-2bce1631e06c",
   "metadata": {},
   "outputs": [
    {
     "name": "stdout",
     "output_type": "stream",
     "text": [
      "Mode: train, loaded samples 8389\n",
      "Mode: train, loaded samples 8389\n"
     ]
    }
   ],
   "source": [
    "train_dataset = SemanticSprayDataset(\"SemanticSprayDataset\", \"train\")\n",
    "test_dataset = SemanticSprayDataset(\"SemanticSprayDataset\", \"train\")"
   ]
  },
  {
   "cell_type": "code",
   "execution_count": 3,
   "id": "4b8c5696-d707-43df-8aa3-2c1551551617",
   "metadata": {},
   "outputs": [],
   "source": [
    "def dbscan(data, eps=2, min_samples=5, leaf_size=30):\n",
    "    clustering = DBSCAN(eps=eps, min_samples=min_samples, leaf_size=leaf_size).fit(data)\n",
    "\n",
    "    core_samples_mask = np.zeros_like(clustering.labels_, dtype=bool)\n",
    "    core_samples_mask[clustering.core_sample_indices_] = True\n",
    "    labels = clustering.labels_\n",
    "    n_clusters_ = len(set(labels)) - (1 if -1 in labels else 0)\n",
    "    n_noise_ = list(labels).count(-1)\n",
    "    print('Estimated number of clusters: %d' % n_clusters_)\n",
    "    print('Estimated number of noise points: %d' % n_noise_)\n",
    "\n",
    "    unique_labels = set(labels)\n",
    "    labels_color = [plt.cm.Spectral(each) for each in np.linspace(0, 1, len(unique_labels))]\n",
    "    return labels, labels_color\n",
    "\n",
    "def points_preprocess(data, distance_crop=False):\n",
    "    boundaries = {}\n",
    "    boundaries['min_x'] = -30\n",
    "    boundaries['max_x'] = 30\n",
    "    boundaries['min_y'] = -30\n",
    "    boundaries['max_y'] = 30\n",
    "    boundaries['min_z'] = -30\n",
    "    boundaries['max_z'] = 30\n",
    "    if distance_crop:\n",
    "        data[\"points\"], data[\"labels\"] = distance_point_filter(data[\"points\"], boundaries, data[\"labels\"])\n",
    "\n",
    "    return data"
   ]
  },
  {
   "cell_type": "code",
   "execution_count": 4,
   "id": "a1374ece-2744-4491-a594-7b34c0813f31",
   "metadata": {},
   "outputs": [],
   "source": [
    "data = next(iter(test_dataset))"
   ]
  },
  {
   "cell_type": "code",
   "execution_count": 5,
   "id": "50968985-992a-442b-811c-91c4a7bd49c0",
   "metadata": {},
   "outputs": [
    {
     "name": "stdout",
     "output_type": "stream",
     "text": [
      "Estimated number of clusters: 64\n",
      "Estimated number of noise points: 6270\n"
     ]
    },
    {
     "data": {
      "application/vnd.jupyter.widget-view+json": {
       "model_id": "89f6e04d08d74e578ad14b81b9b84740",
       "version_major": 2,
       "version_minor": 0
      },
      "text/plain": [
       "Widget(value=\"<iframe src='http://localhost:43457/index.html?ui=P_0x7f63602353d0_0&reconnect=auto' style='widt…"
      ]
     },
     "metadata": {},
     "output_type": "display_data"
    }
   ],
   "source": [
    "data[\"labels\"] = np.zeros(len(data[\"labels\"]))\n",
    "data = points_preprocess(data, distance_crop=True)\n",
    "labels, labels_color = dbscan(data[\"points\"], 2, 20)\n",
    "\n",
    "data[\"labels\"] = labels\n",
    "\n",
    "vis.visualize_scene(data, plot_type=\"3D\", labels_color=labels_color)"
   ]
  },
  {
   "cell_type": "code",
   "execution_count": 6,
   "id": "bf259cf7-b1a3-402f-a9ff-eecca13d190e",
   "metadata": {},
   "outputs": [],
   "source": [
    "import pyransac3d as pyrsc"
   ]
  },
  {
   "cell_type": "code",
   "execution_count": 9,
   "id": "76c19288-2aa3-48fa-bae4-9471ccded4ad",
   "metadata": {},
   "outputs": [],
   "source": [
    "data = next(iter(test_dataset))"
   ]
  },
  {
   "cell_type": "code",
   "execution_count": 10,
   "id": "a48488f6-5c22-4f23-b765-ee43dbe5675c",
   "metadata": {},
   "outputs": [
    {
     "data": {
      "text/plain": [
       "(19232, 3)"
      ]
     },
     "execution_count": 10,
     "metadata": {},
     "output_type": "execute_result"
    }
   ],
   "source": [
    "data = points_preprocess(data, distance_crop=True)\n",
    "points = data['points'][:,:3]\n",
    "labels = data['labels']\n",
    "points.shape"
   ]
  },
  {
   "cell_type": "code",
   "execution_count": 11,
   "id": "09494a02-2153-4c06-be3e-ffe866c8de0c",
   "metadata": {},
   "outputs": [
    {
     "data": {
      "application/vnd.jupyter.widget-view+json": {
       "model_id": "87b6827124b444649c501f599edb9e7e",
       "version_major": 2,
       "version_minor": 0
      },
      "text/plain": [
       "Widget(value=\"<iframe src='http://localhost:43457/index.html?ui=P_0x7f63381d3520_2&reconnect=auto' style='widt…"
      ]
     },
     "metadata": {},
     "output_type": "display_data"
    }
   ],
   "source": [
    "vis.visualize_scene(data, plot_type=\"3D\")"
   ]
  },
  {
   "cell_type": "code",
   "execution_count": 12,
   "id": "c73a60e0-cc6f-453c-ab7d-ba13b92ee651",
   "metadata": {},
   "outputs": [
    {
     "name": "stdout",
     "output_type": "stream",
     "text": [
      "Help on function fit in module pyransac3d.plane:\n",
      "\n",
      "fit(self, pts, thresh=0.05, minPoints=100, maxIteration=1000)\n",
      "    Find the best equation for a plane.\n",
      "    \n",
      "    :param pts: 3D point cloud as a `np.array (N,3)`.\n",
      "    :param thresh: Threshold distance from the plane which is considered inlier.\n",
      "    :param maxIteration: Number of maximum iteration which RANSAC will loop over.\n",
      "    :returns:\n",
      "    - `self.equation`:  Parameters of the plane using Ax+By+Cy+D `np.array (1, 4)`\n",
      "    - `self.inliers`: points from the dataset considered inliers\n",
      "    \n",
      "    ---\n",
      "\n"
     ]
    }
   ],
   "source": [
    "help(pyrsc.Plane.fit)"
   ]
  },
  {
   "cell_type": "code",
   "execution_count": 13,
   "id": "816401cd-6f1f-40b8-80d3-4edf98844254",
   "metadata": {},
   "outputs": [
    {
     "name": "stdout",
     "output_type": "stream",
     "text": [
      "[-0.0032216029, -0.0023162742, -0.99999213, 1.7271638]\n"
     ]
    },
    {
     "data": {
      "text/plain": [
       "(11717,)"
      ]
     },
     "execution_count": 13,
     "metadata": {},
     "output_type": "execute_result"
    }
   ],
   "source": [
    "plane1 = pyrsc.Plane()\n",
    "best_eq, best_inliers = plane1.fit(points, 0.1, 1000, 1000)\n",
    "print(best_eq)\n",
    "best_inliers.shape"
   ]
  },
  {
   "cell_type": "code",
   "execution_count": 14,
   "id": "d6492331-c93f-4640-8262-6d241b2c2551",
   "metadata": {},
   "outputs": [
    {
     "data": {
      "text/plain": [
       "(7515, 3)"
      ]
     },
     "execution_count": 14,
     "metadata": {},
     "output_type": "execute_result"
    }
   ],
   "source": [
    "outliners_points = points[best_inliers]\n",
    "outliners_labels = labels[best_inliers]\n",
    "outliners_data = {'points': outliners_points, 'labels': outliners_labels}\n",
    "\n",
    "cleaned_points = np.delete(points, best_inliers, 0)\n",
    "cleaned_labels = np.delete(labels, best_inliers, 0)\n",
    "cleaned_data = {'points': cleaned_points, 'labels': cleaned_labels}\n",
    "cleaned_data['points'].shape"
   ]
  },
  {
   "cell_type": "code",
   "execution_count": 15,
   "id": "4ed78f04-6b35-47b0-ab69-6eefcdbfa530",
   "metadata": {},
   "outputs": [
    {
     "data": {
      "application/vnd.jupyter.widget-view+json": {
       "model_id": "345503208dac4198bae56f705565ec8b",
       "version_major": 2,
       "version_minor": 0
      },
      "text/plain": [
       "Widget(value=\"<iframe src='http://localhost:43457/index.html?ui=P_0x7f63381c4610_3&reconnect=auto' style='widt…"
      ]
     },
     "metadata": {},
     "output_type": "display_data"
    }
   ],
   "source": [
    "vis.visualize_scene(outliners_data, plot_type=\"3D\")"
   ]
  },
  {
   "cell_type": "code",
   "execution_count": 16,
   "id": "cdacd123-ae17-49de-8903-30e5f711be10",
   "metadata": {},
   "outputs": [
    {
     "data": {
      "application/vnd.jupyter.widget-view+json": {
       "model_id": "6b6c7817e2a7428294cfa9139f219aaa",
       "version_major": 2,
       "version_minor": 0
      },
      "text/plain": [
       "Widget(value=\"<iframe src='http://localhost:43457/index.html?ui=P_0x7f633824d580_4&reconnect=auto' style='widt…"
      ]
     },
     "metadata": {},
     "output_type": "display_data"
    }
   ],
   "source": [
    "vis.visualize_scene(cleaned_data, plot_type=\"3D\")"
   ]
  },
  {
   "cell_type": "code",
   "execution_count": 17,
   "id": "cc3ac1a8-84a2-469e-b03b-a16e7becd763",
   "metadata": {},
   "outputs": [
    {
     "name": "stdout",
     "output_type": "stream",
     "text": [
      "Estimated number of clusters: 13\n",
      "Estimated number of noise points: 246\n"
     ]
    },
    {
     "data": {
      "application/vnd.jupyter.widget-view+json": {
       "model_id": "900ccc720ae84339ade9ecbaa4167cdc",
       "version_major": 2,
       "version_minor": 0
      },
      "text/plain": [
       "Widget(value=\"<iframe src='http://localhost:43457/index.html?ui=P_0x7f6338254340_5&reconnect=auto' style='widt…"
      ]
     },
     "metadata": {},
     "output_type": "display_data"
    }
   ],
   "source": [
    "labels, labels_color = dbscan(cleaned_data[\"points\"], 2, 20)\n",
    "\n",
    "cleaned_data[\"labels\"] = labels\n",
    "\n",
    "vis.visualize_scene(cleaned_data, plot_type=\"3D\", labels_color=labels_color)"
   ]
  },
  {
   "cell_type": "code",
   "execution_count": null,
   "id": "bf209144-024c-44c4-9312-c198155b4d0e",
   "metadata": {},
   "outputs": [],
   "source": []
  },
  {
   "cell_type": "code",
   "execution_count": null,
   "id": "4730c339-7248-4c72-b64d-780ed7e1abb9",
   "metadata": {},
   "outputs": [],
   "source": []
  }
 ],
 "metadata": {
  "kernelspec": {
   "display_name": "Python 3 (ipykernel)",
   "language": "python",
   "name": "python3"
  },
  "language_info": {
   "codemirror_mode": {
    "name": "ipython",
    "version": 3
   },
   "file_extension": ".py",
   "mimetype": "text/x-python",
   "name": "python",
   "nbconvert_exporter": "python",
   "pygments_lexer": "ipython3",
   "version": "3.8.18"
  }
 },
 "nbformat": 4,
 "nbformat_minor": 5
}
